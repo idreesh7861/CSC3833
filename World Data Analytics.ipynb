{
  "nbformat": 4,
  "nbformat_minor": 0,
  "metadata": {
    "colab": {
      "provenance": [],
      "mount_file_id": "1EUcV8l_CBl4DTHb6BTnX3XxD9sEqaaIM",
      "authorship_tag": "ABX9TyO2sin800BA5ck9J6jIMy2H",
      "include_colab_link": true
    },
    "kernelspec": {
      "name": "python3",
      "display_name": "Python 3"
    },
    "language_info": {
      "name": "python"
    }
  },
  "cells": [
    {
      "cell_type": "markdown",
      "metadata": {
        "id": "view-in-github",
        "colab_type": "text"
      },
      "source": [
        "<a href=\"https://colab.research.google.com/github/idreesh7861/CSC3833/blob/main/World%20Data%20Analytics.ipynb\" target=\"_parent\"><img src=\"https://colab.research.google.com/assets/colab-badge.svg\" alt=\"Open In Colab\"/></a>"
      ]
    },
    {
      "cell_type": "code",
      "source": [
        "from google.colab import drive\n",
        "\n",
        "drive.mount('/content/gdrive')"
      ],
      "metadata": {
        "colab": {
          "base_uri": "https://localhost:8080/"
        },
        "id": "npWDzgx2Qaqn",
        "outputId": "d5ff1224-2fa5-47fb-e392-f41f9ac44316"
      },
      "execution_count": 4,
      "outputs": [
        {
          "output_type": "stream",
          "name": "stdout",
          "text": [
            "Mounted at /content/gdrive\n"
          ]
        }
      ]
    },
    {
      "cell_type": "markdown",
      "source": [
        "# Imports"
      ],
      "metadata": {
        "id": "zgTQSDuCKIzv"
      }
    },
    {
      "cell_type": "code",
      "execution_count": 5,
      "metadata": {
        "colab": {
          "base_uri": "https://localhost:8080/",
          "height": 339
        },
        "id": "64YHITtAKCPk",
        "outputId": "c4c16e93-f84e-444d-89b3-35ca8014b8b4"
      },
      "outputs": [
        {
          "output_type": "error",
          "ename": "FileNotFoundError",
          "evalue": "[Errno 2] No such file or directory: 'content/gdrive/My Drive/world-data-2023_new.xlsx'",
          "traceback": [
            "\u001b[0;31m---------------------------------------------------------------------------\u001b[0m",
            "\u001b[0;31mFileNotFoundError\u001b[0m                         Traceback (most recent call last)",
            "\u001b[0;32m<ipython-input-5-b77b16558548>\u001b[0m in \u001b[0;36m<cell line: 6>\u001b[0;34m()\u001b[0m\n\u001b[1;32m      4\u001b[0m \u001b[0;34m\u001b[0m\u001b[0m\n\u001b[1;32m      5\u001b[0m \u001b[0;31m# Import data\u001b[0m\u001b[0;34m\u001b[0m\u001b[0;34m\u001b[0m\u001b[0m\n\u001b[0;32m----> 6\u001b[0;31m \u001b[0mdf\u001b[0m \u001b[0;34m=\u001b[0m \u001b[0mpd\u001b[0m\u001b[0;34m.\u001b[0m\u001b[0mread_excel\u001b[0m\u001b[0;34m(\u001b[0m\u001b[0;34m'content/gdrive/My Drive/world-data-2023_new.xlsx'\u001b[0m\u001b[0;34m)\u001b[0m\u001b[0;34m\u001b[0m\u001b[0;34m\u001b[0m\u001b[0m\n\u001b[0m",
            "\u001b[0;32m/usr/local/lib/python3.10/dist-packages/pandas/io/excel/_base.py\u001b[0m in \u001b[0;36mread_excel\u001b[0;34m(io, sheet_name, header, names, index_col, usecols, dtype, engine, converters, true_values, false_values, skiprows, nrows, na_values, keep_default_na, na_filter, verbose, parse_dates, date_parser, date_format, thousands, decimal, comment, skipfooter, storage_options, dtype_backend, engine_kwargs)\u001b[0m\n\u001b[1;32m    493\u001b[0m     \u001b[0;32mif\u001b[0m \u001b[0;32mnot\u001b[0m \u001b[0misinstance\u001b[0m\u001b[0;34m(\u001b[0m\u001b[0mio\u001b[0m\u001b[0;34m,\u001b[0m \u001b[0mExcelFile\u001b[0m\u001b[0;34m)\u001b[0m\u001b[0;34m:\u001b[0m\u001b[0;34m\u001b[0m\u001b[0;34m\u001b[0m\u001b[0m\n\u001b[1;32m    494\u001b[0m         \u001b[0mshould_close\u001b[0m \u001b[0;34m=\u001b[0m \u001b[0;32mTrue\u001b[0m\u001b[0;34m\u001b[0m\u001b[0;34m\u001b[0m\u001b[0m\n\u001b[0;32m--> 495\u001b[0;31m         io = ExcelFile(\n\u001b[0m\u001b[1;32m    496\u001b[0m             \u001b[0mio\u001b[0m\u001b[0;34m,\u001b[0m\u001b[0;34m\u001b[0m\u001b[0;34m\u001b[0m\u001b[0m\n\u001b[1;32m    497\u001b[0m             \u001b[0mstorage_options\u001b[0m\u001b[0;34m=\u001b[0m\u001b[0mstorage_options\u001b[0m\u001b[0;34m,\u001b[0m\u001b[0;34m\u001b[0m\u001b[0;34m\u001b[0m\u001b[0m\n",
            "\u001b[0;32m/usr/local/lib/python3.10/dist-packages/pandas/io/excel/_base.py\u001b[0m in \u001b[0;36m__init__\u001b[0;34m(self, path_or_buffer, engine, storage_options, engine_kwargs)\u001b[0m\n\u001b[1;32m   1548\u001b[0m                 \u001b[0mext\u001b[0m \u001b[0;34m=\u001b[0m \u001b[0;34m\"xls\"\u001b[0m\u001b[0;34m\u001b[0m\u001b[0;34m\u001b[0m\u001b[0m\n\u001b[1;32m   1549\u001b[0m             \u001b[0;32melse\u001b[0m\u001b[0;34m:\u001b[0m\u001b[0;34m\u001b[0m\u001b[0;34m\u001b[0m\u001b[0m\n\u001b[0;32m-> 1550\u001b[0;31m                 ext = inspect_excel_format(\n\u001b[0m\u001b[1;32m   1551\u001b[0m                     \u001b[0mcontent_or_path\u001b[0m\u001b[0;34m=\u001b[0m\u001b[0mpath_or_buffer\u001b[0m\u001b[0;34m,\u001b[0m \u001b[0mstorage_options\u001b[0m\u001b[0;34m=\u001b[0m\u001b[0mstorage_options\u001b[0m\u001b[0;34m\u001b[0m\u001b[0;34m\u001b[0m\u001b[0m\n\u001b[1;32m   1552\u001b[0m                 )\n",
            "\u001b[0;32m/usr/local/lib/python3.10/dist-packages/pandas/io/excel/_base.py\u001b[0m in \u001b[0;36minspect_excel_format\u001b[0;34m(content_or_path, storage_options)\u001b[0m\n\u001b[1;32m   1400\u001b[0m         \u001b[0mcontent_or_path\u001b[0m \u001b[0;34m=\u001b[0m \u001b[0mBytesIO\u001b[0m\u001b[0;34m(\u001b[0m\u001b[0mcontent_or_path\u001b[0m\u001b[0;34m)\u001b[0m\u001b[0;34m\u001b[0m\u001b[0;34m\u001b[0m\u001b[0m\n\u001b[1;32m   1401\u001b[0m \u001b[0;34m\u001b[0m\u001b[0m\n\u001b[0;32m-> 1402\u001b[0;31m     with get_handle(\n\u001b[0m\u001b[1;32m   1403\u001b[0m         \u001b[0mcontent_or_path\u001b[0m\u001b[0;34m,\u001b[0m \u001b[0;34m\"rb\"\u001b[0m\u001b[0;34m,\u001b[0m \u001b[0mstorage_options\u001b[0m\u001b[0;34m=\u001b[0m\u001b[0mstorage_options\u001b[0m\u001b[0;34m,\u001b[0m \u001b[0mis_text\u001b[0m\u001b[0;34m=\u001b[0m\u001b[0;32mFalse\u001b[0m\u001b[0;34m\u001b[0m\u001b[0;34m\u001b[0m\u001b[0m\n\u001b[1;32m   1404\u001b[0m     ) as handle:\n",
            "\u001b[0;32m/usr/local/lib/python3.10/dist-packages/pandas/io/common.py\u001b[0m in \u001b[0;36mget_handle\u001b[0;34m(path_or_buf, mode, encoding, compression, memory_map, is_text, errors, storage_options)\u001b[0m\n\u001b[1;32m    880\u001b[0m         \u001b[0;32melse\u001b[0m\u001b[0;34m:\u001b[0m\u001b[0;34m\u001b[0m\u001b[0;34m\u001b[0m\u001b[0m\n\u001b[1;32m    881\u001b[0m             \u001b[0;31m# Binary mode\u001b[0m\u001b[0;34m\u001b[0m\u001b[0;34m\u001b[0m\u001b[0m\n\u001b[0;32m--> 882\u001b[0;31m             \u001b[0mhandle\u001b[0m \u001b[0;34m=\u001b[0m \u001b[0mopen\u001b[0m\u001b[0;34m(\u001b[0m\u001b[0mhandle\u001b[0m\u001b[0;34m,\u001b[0m \u001b[0mioargs\u001b[0m\u001b[0;34m.\u001b[0m\u001b[0mmode\u001b[0m\u001b[0;34m)\u001b[0m\u001b[0;34m\u001b[0m\u001b[0;34m\u001b[0m\u001b[0m\n\u001b[0m\u001b[1;32m    883\u001b[0m         \u001b[0mhandles\u001b[0m\u001b[0;34m.\u001b[0m\u001b[0mappend\u001b[0m\u001b[0;34m(\u001b[0m\u001b[0mhandle\u001b[0m\u001b[0;34m)\u001b[0m\u001b[0;34m\u001b[0m\u001b[0;34m\u001b[0m\u001b[0m\n\u001b[1;32m    884\u001b[0m \u001b[0;34m\u001b[0m\u001b[0m\n",
            "\u001b[0;31mFileNotFoundError\u001b[0m: [Errno 2] No such file or directory: 'content/gdrive/My Drive/world-data-2023_new.xlsx'"
          ]
        }
      ],
      "source": [
        "import pandas as pd\n",
        "import altair as alt\n",
        "from vega_datasets import data\n",
        "\n",
        "# Import data\n",
        "df = pd.read_excel('content/gdrive/My Drive/world-data-2023_new.xlsx')"
      ]
    },
    {
      "cell_type": "markdown",
      "source": [
        "# Data Cleaning"
      ],
      "metadata": {
        "id": "z2RBJW45KOQ1"
      }
    },
    {
      "cell_type": "code",
      "source": [
        "# Step 1: Standardise Column Names\n",
        "df.rename(columns={'Country': 'country',\n",
        "                   'id': 'id',\n",
        "                   'Abbreviation': 'abbreviation',\n",
        "                   'Latitude': 'latitude',\n",
        "                   'Longitude': 'longitude',\n",
        "                   'Density\\n(P/Km2)': 'population_density',\n",
        "                   'Agricultural Land( %)': 'percentage_of_agricultural_land',\n",
        "                   'Land Area(Km2)': 'land_area',\n",
        "                   'Armed Forces size': 'armed_forces_size',\n",
        "                   'Birth Rate': 'birth_rate',\n",
        "                   'Calling Code': 'calling_code',\n",
        "                   'Capital/Major City': 'capital_or_major_city',\n",
        "                   'Co2-Emissions': 'co2_emissions',\n",
        "                   'CPI': 'cpi',\n",
        "                   'CPI Change (%)': 'cpi_change',\n",
        "                   'Currency-Code': 'currency_code',\n",
        "                   'Fertility Rate': 'fertility_rate',\n",
        "                   'Forested Area (%)': 'forested_area',\n",
        "                   'Gasoline Price': 'petrol_price',\n",
        "                   'GDP': 'gdp',\n",
        "                   'Gross primary education enrollment (%)': 'gross_primary_education_enrollment',\n",
        "                   'Gross tertiary education enrollment (%)': 'gross_tertiary_education_enrollment',\n",
        "                   'Infant mortality': 'infant_mortality',\n",
        "                   'Largest city': 'largest_city',\n",
        "                   'Life expectancy': 'life_expectancy',\n",
        "                   'Maternal mortality ratio': 'maternal_mortality_ratio',\n",
        "                   'Minimum wage': 'minimum_wage',\n",
        "                   'Official language': 'official_language',\n",
        "                   'Out of pocket health expenditure': 'out_of_pocket_health_expenditure',\n",
        "                   'Physicians per thousand': 'physicians_per_thousand',\n",
        "                   'Population': 'population',\n",
        "                   'Population: Labor force participation (%)': 'population_labor_participation',\n",
        "                   'Tax revenue (%)': 'tax_revenue',\n",
        "                   'Total tax rate': 'total_tax_rate',\n",
        "                   'Unemployment rate': 'unemployment_rate',\n",
        "                   'Urban_population': 'urban_population'}, inplace=True)\n",
        "\n",
        "# Step 2: Convert Data Types\n",
        "\n",
        "df[\"country\"] = df[\"country\"].astype('string')\n",
        "df[\"id\"] = df[\"id\"].astype('int64')\n",
        "df[\"latitude\"] = df[\"latitude\"].astype('float64')\n",
        "df[\"longitude\"] = df[\"longitude\"].astype('float64')\n",
        "df[\"population_density\"] = df[\"population_density\"].astype('float64')\n",
        "df[\"percentage_of_agricultural_land\"] = df[\"percentage_of_agricultural_land\"].astype('float64')\n",
        "df[\"land_area\"] = df[\"land_area\"].astype('float64')\n",
        "df[\"armed_forces_size\"] = df[\"armed_forces_size\"].astype('float64')\n",
        "df[\"birth_rate\"] = df[\"birth_rate\"].astype('float64')\n",
        "df[\"calling_code\"] = df[\"calling_code\"].astype('string')\n",
        "df[\"capital_or_major_city\"] = df[\"capital_or_major_city\"].astype('string')\n",
        "df[\"co2_emissions\"] = df[\"co2_emissions\"].astype('float64')\n",
        "df[\"cpi\"] = df[\"cpi\"].astype('float64')\n",
        "df[\"cpi_change\"] = df[\"cpi_change\"].astype('float64')\n",
        "df[\"currency_code\"] = df[\"currency_code\"].astype('string')\n",
        "df[\"fertility_rate\"] = df[\"fertility_rate\"].astype('float64')\n",
        "df[\"forested_area\"] = df[\"forested_area\"].astype('float64')\n",
        "\n",
        "for index, value in df['petrol_price'].items():\n",
        "    df.at[index, 'petrol_price'] = float(str(value).replace('$', ''))\n",
        "\n",
        "df[\"petrol_price\"] = df[\"petrol_price\"].astype('float64')\n",
        "\n",
        "for index, value in df['gdp'].items():\n",
        "    temp = str(value).replace(',', '')\n",
        "    df.at[index, 'gdp'] = float(temp.replace('$', ''))\n",
        "\n",
        "df[\"gdp\"] = df[\"gdp\"].astype('float64')\n",
        "df[\"gross_primary_education_enrollment\"] = df[\"gross_primary_education_enrollment\"].astype('float64')\n",
        "df[\"gross_tertiary_education_enrollment\"] = df[\"gross_tertiary_education_enrollment\"].astype('float64')\n",
        "df[\"infant_mortality\"] = df[\"infant_mortality\"].astype('float64')\n",
        "\n",
        "for index, value in df['minimum_wage'].items():\n",
        "    df.at[index, 'minimum_wage'] = float(str(value).replace('$', ''))\n",
        "\n",
        "df[\"minimum_wage\"] = df[\"minimum_wage\"].astype('float64')\n",
        "df[\"official_language\"] = df[\"official_language\"].astype('string')\n",
        "df[\"out_of_pocket_health_expenditure\"] = df[\"out_of_pocket_health_expenditure\"].astype('float64')\n",
        "df[\"physicians_per_thousand\"] = df[\"physicians_per_thousand\"].astype('float64')\n",
        "# df[\"population\"] = df[\"population\"].astype('int64')\n",
        "df[\"population_labor_participation\"] = df[\"population_labor_participation\"].astype('float64')\n",
        "df[\"tax_revenue\"] = df[\"tax_revenue\"].astype('float64')\n",
        "df[\"total_tax_rate\"] = df[\"total_tax_rate\"].astype('float64')\n",
        "df[\"unemployment_rate\"] = df[\"unemployment_rate\"].astype('float64')\n",
        "# df[\"urban_population\"] = df[\"urban_population\"].astype('int64')\n",
        "\n",
        "# Step 3: Remove Unnecessary Columns\n",
        "# Step 4: Remove Rows with Missing Values?"
      ],
      "metadata": {
        "id": "t_uYETCTKUtv"
      },
      "execution_count": null,
      "outputs": []
    }
  ]
}